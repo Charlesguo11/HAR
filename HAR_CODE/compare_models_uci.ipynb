{
 "cells": [
  {
   "cell_type": "code",
   "execution_count": 3,
   "metadata": {},
   "outputs": [],
   "source": [
    "import seaborn as sns\n",
    "from numpy import dstack\n",
    "from pandas import read_csv\n",
    "from tensorflow import keras\n",
    "import numpy as np\n",
    "import matplotlib.pyplot as plt\n",
    "import pydot\n",
    "import graphviz"
   ]
  },
  {
   "cell_type": "code",
   "execution_count": 4,
   "metadata": {},
   "outputs": [],
   "source": [
    "def file_load(filepath):\n",
    "    df = read_csv(filepath, header=None, delim_whitespace=True)\n",
    "    return df.values    \n",
    "\n",
    "def train_test_append(filenames, append_before=''):\n",
    "    datalist = list()\n",
    "    for name in filenames:\n",
    "        data = file_load(append_before + name)\n",
    "        datalist.append(data)\n",
    "    datalist = dstack(datalist)\n",
    "    return datalist\n",
    "\n",
    "def inertial_signals_load(group, append_before=''):\n",
    "    filepath = append_before + group + '/Inertial Signals/'\n",
    "    filenames = list()\n",
    "    filenames += ['total_acc_x_'+group+'.txt', 'total_acc_y_'+group+'.txt', 'total_acc_z_'+group+'.txt']\n",
    "    filenames += ['body_acc_x_'+group+'.txt', 'body_acc_y_'+group+'.txt', 'body_acc_z_'+group+'.txt']\n",
    "    filenames += ['body_gyro_x_'+group+'.txt', 'body_gyro_y_'+group+'.txt', 'body_gyro_z_'+group+'.txt']\n",
    "    X = train_test_append(filenames, filepath)\n",
    "    y = file_load(append_before + group + '/y_'+group+'.txt')\n",
    "    return X, y\n",
    "    \n",
    "\n",
    "def load_dataset(append_before=''):\n",
    "    trainX, trainy = inertial_signals_load('train')\n",
    "    testX, testy = inertial_signals_load('test')\n",
    "    trainy = trainy - 1\n",
    "    testy = testy - 1\n",
    "    # trainy = to_categorical(trainy)\n",
    "    # testy = to_categorical(testy)\n",
    "    train=(trainX, trainy)\n",
    "    print(trainX.shape, trainy.shape, testX.shape, testy.shape)\n",
    "    return trainX, trainy, testX, testy"
   ]
  },
  {
   "cell_type": "code",
   "execution_count": 5,
   "metadata": {},
   "outputs": [
    {
     "name": "stdout",
     "output_type": "stream",
     "text": [
      "(7352, 128, 9) (7352, 1) (2947, 128, 9) (2947, 1)\n",
      "(7352, 1152) (2947, 1152)\n"
     ]
    }
   ],
   "source": [
    "trainX, trainy, testX, testy = load_dataset()\n",
    "verbose, epochs, batch_size =1, 30, 192 #192\n",
    "n_timesteps = trainX.shape[1]\n",
    "n_features = trainX.shape[2]\n",
    "n_outputs = trainy.shape[1]\n",
    "n_steps = 4\n",
    "n_length = 32\n",
    "trainX = trainX.reshape((trainX.shape[0], 1152))\n",
    "testX = testX.reshape((testX.shape[0], 1152)) \n",
    "print(trainX.shape,testX.shape)"
   ]
  },
  {
   "cell_type": "code",
   "execution_count": 6,
   "metadata": {},
   "outputs": [
    {
     "name": "stderr",
     "output_type": "stream",
     "text": [
      "c:\\Users\\19581\\AppData\\Local\\Programs\\Python\\Python310\\lib\\site-packages\\sklearn\\utils\\validation.py:1183: DataConversionWarning: A column-vector y was passed when a 1d array was expected. Please change the shape of y to (n_samples, ), for example using ravel().\n",
      "  y = column_or_1d(y, warn=True)\n",
      "c:\\Users\\19581\\AppData\\Local\\Programs\\Python\\Python310\\lib\\site-packages\\sklearn\\utils\\validation.py:1183: DataConversionWarning: A column-vector y was passed when a 1d array was expected. Please change the shape of y to (n_samples, ), for example using ravel().\n",
      "  y = column_or_1d(y, warn=True)\n"
     ]
    },
    {
     "name": "stdout",
     "output_type": "stream",
     "text": [
      "SVM 0.8873430607397353\n",
      "              precision    recall  f1-score   support\n",
      "\n",
      "           0       0.87      0.96      0.91       496\n",
      "           1       0.89      0.87      0.88       471\n",
      "           2       0.87      0.86      0.86       420\n",
      "           3       0.85      0.77      0.81       491\n",
      "           4       0.84      0.86      0.85       532\n",
      "           5       1.00      1.00      1.00       537\n",
      "\n",
      "    accuracy                           0.89      2947\n",
      "   macro avg       0.89      0.89      0.88      2947\n",
      "weighted avg       0.89      0.89      0.89      2947\n",
      "\n"
     ]
    }
   ],
   "source": [
    "#SVM model\n",
    "from sklearn.svm import SVC\n",
    "from sklearn.metrics import accuracy_score\n",
    "from sklearn import metrics\n",
    "model = SVC()\n",
    "model.fit(trainX,trainy)\n",
    "history=model.fit(trainX, trainy)\n",
    "predictions = model.predict(testX)\n",
    "print('SVM',accuracy_score(testy,predictions)) #0.887343\n",
    "clr=metrics.classification_report(testy, predictions)\n",
    "print(clr)"
   ]
  },
  {
   "cell_type": "code",
   "execution_count": 7,
   "metadata": {},
   "outputs": [
    {
     "name": "stdout",
     "output_type": "stream",
     "text": [
      "DT 0.7298948082796064\n",
      "              precision    recall  f1-score   support\n",
      "\n",
      "           0       0.60      0.61      0.61       496\n",
      "           1       0.67      0.59      0.63       471\n",
      "           2       0.59      0.60      0.60       420\n",
      "           3       0.74      0.73      0.73       491\n",
      "           4       0.73      0.79      0.76       532\n",
      "           5       1.00      1.00      1.00       537\n",
      "\n",
      "    accuracy                           0.73      2947\n",
      "   macro avg       0.72      0.72      0.72      2947\n",
      "weighted avg       0.73      0.73      0.73      2947\n",
      "\n"
     ]
    }
   ],
   "source": [
    "#DT model\n",
    "from sklearn import tree #导入需要的模块\n",
    "clf = tree.DecisionTreeClassifier() #实例化模型对象\n",
    "from sklearn import metrics\n",
    "\n",
    "clf = clf.fit(trainX,trainy) #用训练集数据训练模型\n",
    "result = clf.score(testX,testy) #对我们训练的模型精度进行打分\n",
    "print('DT',result) \n",
    "predictions = clf.predict(testX)\n",
    "clr=metrics.classification_report(testy, predictions)\n",
    "print(clr)"
   ]
  },
  {
   "cell_type": "code",
   "execution_count": 8,
   "metadata": {},
   "outputs": [
    {
     "name": "stderr",
     "output_type": "stream",
     "text": [
      "c:\\Users\\19581\\AppData\\Local\\Programs\\Python\\Python310\\lib\\site-packages\\sklearn\\neighbors\\_classification.py:233: DataConversionWarning: A column-vector y was passed when a 1d array was expected. Please change the shape of y to (n_samples,), for example using ravel().\n",
      "  return self._fit(X, y)\n"
     ]
    },
    {
     "name": "stdout",
     "output_type": "stream",
     "text": [
      "KNN 0.7485578554462164\n",
      "              precision    recall  f1-score   support\n",
      "\n",
      "           0       0.93      0.73      0.82       496\n",
      "           1       0.96      0.75      0.84       471\n",
      "           2       0.99      0.36      0.53       420\n",
      "           3       0.61      0.82      0.70       491\n",
      "           4       0.48      0.75      0.58       532\n",
      "           5       1.00      1.00      1.00       537\n",
      "\n",
      "    accuracy                           0.75      2947\n",
      "   macro avg       0.83      0.74      0.75      2947\n",
      "weighted avg       0.82      0.75      0.75      2947\n",
      "\n"
     ]
    }
   ],
   "source": [
    "#KNN model\n",
    "from sklearn import datasets       #导入数据模块\n",
    "from sklearn.model_selection import train_test_split     #导入切分训练集、测试集模块\n",
    "from sklearn.neighbors import KNeighborsClassifier\n",
    "from sklearn.metrics import accuracy_score\n",
    "from sklearn import metrics\n",
    "\n",
    "knn = KNeighborsClassifier(n_neighbors=2)    #实例化KNN模型 n_neighbors=2效果最佳\n",
    "knn.fit(trainX, trainy)      #放入训练数据进行训练\n",
    "predictions=knn.predict(testX)           #打印预测内容\n",
    "print('KNN',accuracy_score(testy,predictions))\n",
    "clr=metrics.classification_report(testy, predictions)\n",
    "print(clr)\n",
    "\n",
    "#查看n_neighbors=多少效果最好\n",
    "# from sklearn.model_selection  import cross_val_score\n",
    "# k_range = range(1, 100)\n",
    "# k_error = []\n",
    "# for k in k_range:\n",
    "#     knn = KNeighborsClassifier(n_neighbors=k)\n",
    "#     #cv参数决定数据集划分比例，这里是按照5:1划分训练集和测试集\n",
    "#     scores = cross_val_score(knn, trainX, trainy, cv=6, scoring='accuracy')\n",
    "#     k_error.append(1 - scores.mean())\n",
    "# #画图，x轴为k值，y值为误差值\n",
    "# plt.plot(k_range, k_error)\n",
    "# plt.xlabel('Value of K for KNN')\n",
    "# plt.ylabel('Error')\n",
    "# plt.show()"
   ]
  },
  {
   "cell_type": "markdown",
   "metadata": {},
   "source": [
    "'''\n",
    "SVM: 88.73%\n",
    "DT: 72.61%\n",
    "KNN: 74.85%\n",
    "CNN only: 91.75%\n",
    "LSTM only: 91.89%\n",
    "CNN-LSTM: 92.89%\n",
    "LSTM-CNN: 95.28%\n",
    "'''"
   ]
  }
 ],
 "metadata": {
  "kernelspec": {
   "display_name": "Python 3",
   "language": "python",
   "name": "python3"
  },
  "language_info": {
   "codemirror_mode": {
    "name": "ipython",
    "version": 3
   },
   "file_extension": ".py",
   "mimetype": "text/x-python",
   "name": "python",
   "nbconvert_exporter": "python",
   "pygments_lexer": "ipython3",
   "version": "3.10.0"
  }
 },
 "nbformat": 4,
 "nbformat_minor": 2
}
